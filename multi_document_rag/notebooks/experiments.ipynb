{
 "cells": [
  {
   "cell_type": "code",
   "execution_count": 3,
   "id": "d288542e",
   "metadata": {},
   "outputs": [
    {
     "ename": "NameError",
     "evalue": "name '__file__' is not defined",
     "output_type": "error",
     "traceback": [
      "\u001b[31m---------------------------------------------------------------------------\u001b[39m",
      "\u001b[31mNameError\u001b[39m                                 Traceback (most recent call last)",
      "\u001b[36mCell\u001b[39m\u001b[36m \u001b[39m\u001b[32mIn[3]\u001b[39m\u001b[32m, line 2\u001b[39m\n\u001b[32m      1\u001b[39m \u001b[38;5;28;01mfrom\u001b[39;00m\u001b[38;5;250m \u001b[39m\u001b[34;01mpathlib\u001b[39;00m\u001b[38;5;250m \u001b[39m\u001b[38;5;28;01mimport\u001b[39;00m Path\n\u001b[32m----> \u001b[39m\u001b[32m2\u001b[39m Path(\u001b[34;43m__file__\u001b[39;49m).resolve().parent.parent\n",
      "\u001b[31mNameError\u001b[39m: name '__file__' is not defined"
     ]
    }
   ],
   "source": [
    "from pathlib import Path\n",
    "Path(__file__).resolve().parent.parent"
   ]
  },
  {
   "cell_type": "code",
   "execution_count": 16,
   "id": "c2cf728f",
   "metadata": {},
   "outputs": [
    {
     "data": {
      "text/plain": [
       "{'openai': 'gpt-4.1-nano', 'gemini': 'gemini-1.5-flash'}"
      ]
     },
     "execution_count": 16,
     "metadata": {},
     "output_type": "execute_result"
    }
   ],
   "source": [
    "import yaml\n",
    "ROOT_DIR = \"..\"\n",
    "import os\n",
    "\n",
    "class Config:\n",
    "    def __init__(self, title=None, path=os.path.join(ROOT_DIR, \"config\", \"config.yaml\")):\n",
    "        self.title = title\n",
    "        with open(path, \"r\") as f:\n",
    "            self.cfg = yaml.safe_load(f)\n",
    "            \n",
    "    def __getitem__(self, item):\n",
    "        section = self.title if self.title else item\n",
    "        print(\"hi\")\n",
    "        return self.cfg[section]\n",
    "\n",
    "# if __name__ == \"__main__\":\n",
    "Config().cfg['models']\n"
   ]
  },
  {
   "cell_type": "code",
   "execution_count": 8,
   "id": "601ec8fc",
   "metadata": {},
   "outputs": [],
   "source": [
    "import sys\n",
    "sys.path.append(\"C:/Users/muham/Desktop/multi_document_rag\")\n"
   ]
  },
  {
   "cell_type": "code",
   "execution_count": 9,
   "id": "10d86da8",
   "metadata": {},
   "outputs": [
    {
     "data": {
      "text/plain": [
       "77"
      ]
     },
     "execution_count": 9,
     "metadata": {},
     "output_type": "execute_result"
    }
   ],
   "source": [
    "from multi_document_rag.utils.load_embeddings import load_embedding_model\n",
    "from multi_document_rag.utils.pdf_loader import pdf_loader\n",
    "from multi_document_rag.utils.paths import ROOT_DIR\n",
    "import os\n",
    "\n",
    "path = os.path.join(ROOT_DIR, \"data\", \"sample.pdf\")\n",
    "docs = pdf_loader(path)\n",
    "len(docs)"
   ]
  },
  {
   "cell_type": "code",
   "execution_count": 10,
   "id": "dab34da1",
   "metadata": {},
   "outputs": [
    {
     "name": "stdout",
     "output_type": "stream",
     "text": [
      "Loading HuggingFace embedding model...\n"
     ]
    },
    {
     "name": "stderr",
     "output_type": "stream",
     "text": [
      "\u001b[32m[2025-07-25 17:14:46] [INFO] multi_document_rag.logger.logger:17 - Embedding model loaded in 94.75 seconds.\u001b[0m\n"
     ]
    },
    {
     "ename": "TypeError",
     "evalue": "expected string or bytes-like object, got 'Document'",
     "output_type": "error",
     "traceback": [
      "\u001b[31m---------------------------------------------------------------------------\u001b[39m",
      "\u001b[31mTypeError\u001b[39m                                 Traceback (most recent call last)",
      "\u001b[36mCell\u001b[39m\u001b[36m \u001b[39m\u001b[32mIn[10]\u001b[39m\u001b[32m, line 3\u001b[39m\n\u001b[32m      1\u001b[39m \u001b[38;5;28;01mfrom\u001b[39;00m\u001b[38;5;250m \u001b[39m\u001b[34;01mmulti_document_rag\u001b[39;00m\u001b[34;01m.\u001b[39;00m\u001b[34;01mutils\u001b[39;00m\u001b[34;01m.\u001b[39;00m\u001b[34;01mchunker\u001b[39;00m\u001b[38;5;250m \u001b[39m\u001b[38;5;28;01mimport\u001b[39;00m doc_splitter\n\u001b[32m----> \u001b[39m\u001b[32m3\u001b[39m splitted_doc = \u001b[43mdoc_splitter\u001b[49m\u001b[43m(\u001b[49m\u001b[43mdocs\u001b[49m\u001b[43m)\u001b[49m\n\u001b[32m      4\u001b[39m splitted_doc[:\u001b[32m3\u001b[39m]\n",
      "\u001b[36mFile \u001b[39m\u001b[32mC:\\Users/muham/Desktop/multi_document_rag\\multi_document_rag\\utils\\chunker.py:7\u001b[39m, in \u001b[36mdoc_splitter\u001b[39m\u001b[34m(doc)\u001b[39m\n\u001b[32m      5\u001b[39m embeddings = load_embedding_model()\n\u001b[32m      6\u001b[39m text_splitter = SemanticChunker(embeddings=embeddings)\n\u001b[32m----> \u001b[39m\u001b[32m7\u001b[39m splitted_doc = \u001b[43mtext_splitter\u001b[49m\u001b[43m.\u001b[49m\u001b[43mcreate_documents\u001b[49m\u001b[43m(\u001b[49m\u001b[43mdoc\u001b[49m\u001b[43m)\u001b[49m\n\u001b[32m      8\u001b[39m \u001b[38;5;28;01mreturn\u001b[39;00m splitted_doc\n",
      "\u001b[36mFile \u001b[39m\u001b[32m~\\AppData\\Roaming\\Python\\Python313\\site-packages\\langchain_experimental\\text_splitter.py:280\u001b[39m, in \u001b[36mSemanticChunker.create_documents\u001b[39m\u001b[34m(self, texts, metadatas)\u001b[39m\n\u001b[32m    278\u001b[39m \u001b[38;5;28;01mfor\u001b[39;00m i, text \u001b[38;5;129;01min\u001b[39;00m \u001b[38;5;28menumerate\u001b[39m(texts):\n\u001b[32m    279\u001b[39m     start_index = \u001b[32m0\u001b[39m\n\u001b[32m--> \u001b[39m\u001b[32m280\u001b[39m     \u001b[38;5;28;01mfor\u001b[39;00m chunk \u001b[38;5;129;01min\u001b[39;00m \u001b[38;5;28;43mself\u001b[39;49m\u001b[43m.\u001b[49m\u001b[43msplit_text\u001b[49m\u001b[43m(\u001b[49m\u001b[43mtext\u001b[49m\u001b[43m)\u001b[49m:\n\u001b[32m    281\u001b[39m         metadata = copy.deepcopy(_metadatas[i])\n\u001b[32m    282\u001b[39m         \u001b[38;5;28;01mif\u001b[39;00m \u001b[38;5;28mself\u001b[39m._add_start_index:\n",
      "\u001b[36mFile \u001b[39m\u001b[32m~\\AppData\\Roaming\\Python\\Python313\\site-packages\\langchain_experimental\\text_splitter.py:216\u001b[39m, in \u001b[36mSemanticChunker.split_text\u001b[39m\u001b[34m(self, text)\u001b[39m\n\u001b[32m    211\u001b[39m \u001b[38;5;28;01mdef\u001b[39;00m\u001b[38;5;250m \u001b[39m\u001b[34msplit_text\u001b[39m(\n\u001b[32m    212\u001b[39m     \u001b[38;5;28mself\u001b[39m,\n\u001b[32m    213\u001b[39m     text: \u001b[38;5;28mstr\u001b[39m,\n\u001b[32m    214\u001b[39m ) -> List[\u001b[38;5;28mstr\u001b[39m]:\n\u001b[32m    215\u001b[39m     \u001b[38;5;66;03m# Splitting the essay (by default on '.', '?', and '!')\u001b[39;00m\n\u001b[32m--> \u001b[39m\u001b[32m216\u001b[39m     single_sentences_list = \u001b[43mre\u001b[49m\u001b[43m.\u001b[49m\u001b[43msplit\u001b[49m\u001b[43m(\u001b[49m\u001b[38;5;28;43mself\u001b[39;49m\u001b[43m.\u001b[49m\u001b[43msentence_split_regex\u001b[49m\u001b[43m,\u001b[49m\u001b[43m \u001b[49m\u001b[43mtext\u001b[49m\u001b[43m)\u001b[49m\n\u001b[32m    218\u001b[39m     \u001b[38;5;66;03m# having len(single_sentences_list) == 1 would cause the following\u001b[39;00m\n\u001b[32m    219\u001b[39m     \u001b[38;5;66;03m# np.percentile to fail.\u001b[39;00m\n\u001b[32m    220\u001b[39m     \u001b[38;5;28;01mif\u001b[39;00m \u001b[38;5;28mlen\u001b[39m(single_sentences_list) == \u001b[32m1\u001b[39m:\n",
      "\u001b[36mFile \u001b[39m\u001b[32mc:\\Users\\muham\\Desktop\\ISRO multimodal rag\\venv\\Lib\\re\\__init__.py:267\u001b[39m, in \u001b[36msplit\u001b[39m\u001b[34m(pattern, string, maxsplit, flags, *args)\u001b[39m\n\u001b[32m    261\u001b[39m     \u001b[38;5;28;01mimport\u001b[39;00m\u001b[38;5;250m \u001b[39m\u001b[34;01mwarnings\u001b[39;00m\n\u001b[32m    262\u001b[39m     warnings.warn(\n\u001b[32m    263\u001b[39m         \u001b[33m\"\u001b[39m\u001b[33m'\u001b[39m\u001b[33mmaxsplit\u001b[39m\u001b[33m'\u001b[39m\u001b[33m is passed as positional argument\u001b[39m\u001b[33m\"\u001b[39m,\n\u001b[32m    264\u001b[39m         \u001b[38;5;167;01mDeprecationWarning\u001b[39;00m, stacklevel=\u001b[32m2\u001b[39m\n\u001b[32m    265\u001b[39m     )\n\u001b[32m--> \u001b[39m\u001b[32m267\u001b[39m \u001b[38;5;28;01mreturn\u001b[39;00m \u001b[43m_compile\u001b[49m\u001b[43m(\u001b[49m\u001b[43mpattern\u001b[49m\u001b[43m,\u001b[49m\u001b[43m \u001b[49m\u001b[43mflags\u001b[49m\u001b[43m)\u001b[49m\u001b[43m.\u001b[49m\u001b[43msplit\u001b[49m\u001b[43m(\u001b[49m\u001b[43mstring\u001b[49m\u001b[43m,\u001b[49m\u001b[43m \u001b[49m\u001b[43mmaxsplit\u001b[49m\u001b[43m)\u001b[49m\n",
      "\u001b[31mTypeError\u001b[39m: expected string or bytes-like object, got 'Document'"
     ]
    }
   ],
   "source": [
    "from multi_document_rag.utils.chunker import doc_splitter\n",
    "\n",
    "splitted_doc = doc_splitter(docs)\n",
    "splitted_doc[:3]"
   ]
  }
 ],
 "metadata": {
  "kernelspec": {
   "display_name": "Python 3",
   "language": "python",
   "name": "python3"
  },
  "language_info": {
   "codemirror_mode": {
    "name": "ipython",
    "version": 3
   },
   "file_extension": ".py",
   "mimetype": "text/x-python",
   "name": "python",
   "nbconvert_exporter": "python",
   "pygments_lexer": "ipython3",
   "version": "3.13.0"
  }
 },
 "nbformat": 4,
 "nbformat_minor": 5
}
