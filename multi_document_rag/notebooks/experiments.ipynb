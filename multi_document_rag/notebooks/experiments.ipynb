{
 "cells": [
  {
   "cell_type": "code",
   "execution_count": 3,
   "id": "d288542e",
   "metadata": {},
   "outputs": [
    {
     "ename": "NameError",
     "evalue": "name '__file__' is not defined",
     "output_type": "error",
     "traceback": [
      "\u001b[31m---------------------------------------------------------------------------\u001b[39m",
      "\u001b[31mNameError\u001b[39m                                 Traceback (most recent call last)",
      "\u001b[36mCell\u001b[39m\u001b[36m \u001b[39m\u001b[32mIn[3]\u001b[39m\u001b[32m, line 2\u001b[39m\n\u001b[32m      1\u001b[39m \u001b[38;5;28;01mfrom\u001b[39;00m\u001b[38;5;250m \u001b[39m\u001b[34;01mpathlib\u001b[39;00m\u001b[38;5;250m \u001b[39m\u001b[38;5;28;01mimport\u001b[39;00m Path\n\u001b[32m----> \u001b[39m\u001b[32m2\u001b[39m Path(\u001b[34;43m__file__\u001b[39;49m).resolve().parent.parent\n",
      "\u001b[31mNameError\u001b[39m: name '__file__' is not defined"
     ]
    }
   ],
   "source": [
    "from pathlib import Path\n",
    "Path(__file__).resolve().parent.parent"
   ]
  },
  {
   "cell_type": "code",
   "execution_count": 16,
   "id": "c2cf728f",
   "metadata": {},
   "outputs": [
    {
     "data": {
      "text/plain": [
       "{'openai': 'gpt-4.1-nano', 'gemini': 'gemini-1.5-flash'}"
      ]
     },
     "execution_count": 16,
     "metadata": {},
     "output_type": "execute_result"
    }
   ],
   "source": [
    "import yaml\n",
    "ROOT_DIR = \"..\"\n",
    "import os\n",
    "\n",
    "class Config:\n",
    "    def __init__(self, title=None, path=os.path.join(ROOT_DIR, \"config\", \"config.yaml\")):\n",
    "        self.title = title\n",
    "        with open(path, \"r\") as f:\n",
    "            self.cfg = yaml.safe_load(f)\n",
    "            \n",
    "    def __getitem__(self, item):\n",
    "        section = self.title if self.title else item\n",
    "        print(\"hi\")\n",
    "        return self.cfg[section]\n",
    "\n",
    "# if __name__ == \"__main__\":\n",
    "Config().cfg['models']\n"
   ]
  },
  {
   "cell_type": "code",
   "execution_count": 18,
   "id": "601ec8fc",
   "metadata": {},
   "outputs": [],
   "source": [
    "import sys\n",
    "sys.path.append(\"C:/Users/muham/Desktop/multi_document_rag\")\n"
   ]
  },
  {
   "cell_type": "code",
   "execution_count": 9,
   "id": "10d86da8",
   "metadata": {},
   "outputs": [
    {
     "data": {
      "text/plain": [
       "77"
      ]
     },
     "execution_count": 9,
     "metadata": {},
     "output_type": "execute_result"
    }
   ],
   "source": [
    "from multi_document_rag.utils.load_embeddings import load_embedding_model\n",
    "from multi_document_rag.utils.pdf_loader import pdf_loader\n",
    "from multi_document_rag.utils.paths import ROOT_DIR\n",
    "import os\n",
    "\n",
    "path = os.path.join(ROOT_DIR, \"data\", \"sample.pdf\")\n",
    "docs = pdf_loader(path)\n",
    "len(docs)"
   ]
  },
  {
   "cell_type": "code",
   "execution_count": 11,
   "id": "0e231cfb",
   "metadata": {},
   "outputs": [
    {
     "name": "stdout",
     "output_type": "stream",
     "text": [
      "Loading HuggingFace embedding model...\n"
     ]
    },
    {
     "name": "stderr",
     "output_type": "stream",
     "text": [
      "\u001b[32m[2025-07-25 17:21:01] [INFO] multi_document_rag.logger.logger:17 - Embedding model loaded in 18.34 seconds.\u001b[0m\n"
     ]
    }
   ],
   "source": [
    "from multi_document_rag.utils.load_embeddings import load_embedding_model\n",
    "embeddings = load_embedding_model()"
   ]
  },
  {
   "cell_type": "code",
   "execution_count": 21,
   "id": "716f7a95",
   "metadata": {},
   "outputs": [],
   "source": [
    "from langchain_experimental.text_splitter import SemanticChunker\n",
    "def doc_splitter(embeddings, docs):\n",
    "    text_splitter = SemanticChunker(embeddings=embeddings)\n",
    "    splitted_doc = text_splitter.split_documents(docs)\n",
    "    return splitted_doc"
   ]
  },
  {
   "cell_type": "code",
   "execution_count": null,
   "id": "dab34da1",
   "metadata": {},
   "outputs": [],
   "source": [
    "\n",
    "\n",
    "splitted_doc = doc_splitter(embeddings,docs)\n",
    "splitted_doc[:3]"
   ]
  },
  {
   "cell_type": "code",
   "execution_count": null,
   "id": "5f31d91c",
   "metadata": {},
   "outputs": [],
   "source": []
  }
 ],
 "metadata": {
  "kernelspec": {
   "display_name": "Python 3",
   "language": "python",
   "name": "python3"
  },
  "language_info": {
   "codemirror_mode": {
    "name": "ipython",
    "version": 3
   },
   "file_extension": ".py",
   "mimetype": "text/x-python",
   "name": "python",
   "nbconvert_exporter": "python",
   "pygments_lexer": "ipython3",
   "version": "3.13.0"
  }
 },
 "nbformat": 4,
 "nbformat_minor": 5
}
